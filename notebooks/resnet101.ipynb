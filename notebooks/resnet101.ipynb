{
 "cells": [
  {
   "cell_type": "code",
   "execution_count": 2,
   "metadata": {
    "tags": []
   },
   "outputs": [
    {
     "output_type": "stream",
     "name": "stdout",
     "text": "Shape layer1:  torch.Size([1, 64, 56, 56])\nShape layer2:  torch.Size([1, 128, 28, 28])\nShape layer3:  torch.Size([1, 256, 14, 14])\ntorch.Size([1, 128, 28, 28]) torch.Size([1, 196])\nTime inference:  0.12844252586364746\nTime ave:  0.12844252586364746\n"
    }
   ],
   "source": [
    "import torch\n",
    "import sys\n",
    "sys.path.insert(0, \"../models\")\n",
    "import rexnet\n",
    "import time\n",
    "import numpy as np\n",
    "\n",
    "from resnet import ResNet, BasicBlock\n",
    "\n",
    "model = ResNet(block=BasicBlock, layers=[3, 4, 23, 3])\n",
    "model.eval()\n",
    "\n",
    "x = torch.randn(1, 3, 112, 112)\n",
    "times = []\n",
    "for i in range(1):\n",
    "    t1 =time.time()\n",
    "    a, b = model(x)\n",
    "    print(a.shape, b.shape)\n",
    "    t2 =time.time()\n",
    "    times.append(t2-t1)\n",
    "    print(\"Time inference: \", t2-t1)\n",
    "\n",
    "print(\"Time ave: \", np.mean(times))"
   ]
  },
  {
   "cell_type": "code",
   "execution_count": null,
   "metadata": {},
   "outputs": [],
   "source": []
  }
 ],
 "metadata": {
  "language_info": {
   "codemirror_mode": {
    "name": "ipython",
    "version": 3
   },
   "file_extension": ".py",
   "mimetype": "text/x-python",
   "name": "python",
   "nbconvert_exporter": "python",
   "pygments_lexer": "ipython3",
   "version": 3
  },
  "orig_nbformat": 2,
  "kernelspec": {
   "name": "python_defaultSpec_1594881387232",
   "display_name": "Python 3.7.0 64-bit ('rnn': conda)"
  }
 },
 "nbformat": 4,
 "nbformat_minor": 2
}