{
 "cells": [
  {
   "cell_type": "code",
   "execution_count": 17,
   "metadata": {
    "tags": []
   },
   "outputs": [
    {
     "output_type": "error",
     "ename": "AssertionError",
     "evalue": "Parameter 'first-3x3-conv-conv2d_weight' is missing in file '../checkpoint_mxnet/lmks_detector-0800.params', which contains parameters: 'pfld_v38_pfld_v30_first-3x3-conv-conv2d_weight', 'pfld_v38_pfld_v30_first-3x3-conv-batchnorm_gamma', 'pfld_v38_pfld_v30_first-3x3-conv-batchnorm_beta', ..., 'pfld_v38_pfld_v30_output_branch_1batchnorm0_running_mean', 'pfld_v38_pfld_v30_output_branch_1batchnorm0_running_var', 'pfld_v38_pfld_v30_output_branch_2batchnorm0_running_mean', 'pfld_v38_pfld_v30_output_branch_2batchnorm0_running_var'. Please make sure source and target networks have the same prefix.",
     "traceback": [
      "\u001b[0;31m---------------------------------------------------------------------------\u001b[0m",
      "\u001b[0;31mAssertionError\u001b[0m                            Traceback (most recent call last)",
      "\u001b[0;32m<ipython-input-17-2a23cc3a8975>\u001b[0m in \u001b[0;36m<module>\u001b[0;34m\u001b[0m\n\u001b[1;32m      8\u001b[0m \u001b[0mnet\u001b[0m \u001b[0;34m=\u001b[0m \u001b[0mPFLD_v3\u001b[0m\u001b[0;34m(\u001b[0m\u001b[0mnum_of_pts\u001b[0m\u001b[0;34m=\u001b[0m\u001b[0;36m98\u001b[0m\u001b[0;34m,\u001b[0m \u001b[0malpha\u001b[0m\u001b[0;34m=\u001b[0m\u001b[0;36m1.0\u001b[0m\u001b[0;34m)\u001b[0m\u001b[0;34m\u001b[0m\u001b[0m\n\u001b[1;32m      9\u001b[0m \u001b[0mnet\u001b[0m\u001b[0;34m.\u001b[0m\u001b[0mhybridize\u001b[0m\u001b[0;34m(\u001b[0m\u001b[0;34m)\u001b[0m\u001b[0;34m\u001b[0m\u001b[0m\n\u001b[0;32m---> 10\u001b[0;31m \u001b[0mnet\u001b[0m\u001b[0;34m.\u001b[0m\u001b[0mload_parameters\u001b[0m\u001b[0;34m(\u001b[0m\u001b[0;34m\"../checkpoint_mxnet/lmks_detector-0800.params\"\u001b[0m\u001b[0;34m)\u001b[0m\u001b[0;34m\u001b[0m\u001b[0m\n\u001b[0m",
      "\u001b[0;32m~/anaconda3/envs/pfld/lib/python3.7/site-packages/mxnet/gluon/block.py\u001b[0m in \u001b[0;36mload_parameters\u001b[0;34m(self, filename, ctx, allow_missing, ignore_extra, cast_dtype, dtype_source)\u001b[0m\n\u001b[1;32m    392\u001b[0m             self.collect_params().load(\n\u001b[1;32m    393\u001b[0m                 \u001b[0mfilename\u001b[0m\u001b[0;34m,\u001b[0m \u001b[0mctx\u001b[0m\u001b[0;34m,\u001b[0m \u001b[0mallow_missing\u001b[0m\u001b[0;34m,\u001b[0m \u001b[0mignore_extra\u001b[0m\u001b[0;34m,\u001b[0m \u001b[0mself\u001b[0m\u001b[0;34m.\u001b[0m\u001b[0mprefix\u001b[0m\u001b[0;34m,\u001b[0m\u001b[0;34m\u001b[0m\u001b[0m\n\u001b[0;32m--> 394\u001b[0;31m                 cast_dtype=cast_dtype, dtype_source=dtype_source)\n\u001b[0m\u001b[1;32m    395\u001b[0m             \u001b[0;32mreturn\u001b[0m\u001b[0;34m\u001b[0m\u001b[0m\n\u001b[1;32m    396\u001b[0m \u001b[0;34m\u001b[0m\u001b[0m\n",
      "\u001b[0;32m~/anaconda3/envs/pfld/lib/python3.7/site-packages/mxnet/gluon/parameter.py\u001b[0m in \u001b[0;36mload\u001b[0;34m(self, filename, ctx, allow_missing, ignore_extra, restore_prefix, cast_dtype, dtype_source)\u001b[0m\n\u001b[1;32m    966\u001b[0m                     \u001b[0;34m\"Parameter '%s' is missing in file '%s', which contains parameters: %s. \"\u001b[0m\u001b[0;31m \u001b[0m\u001b[0;31m\\\u001b[0m\u001b[0;34m\u001b[0m\u001b[0m\n\u001b[1;32m    967\u001b[0m                     \"Please make sure source and target networks have the same prefix.\"%(\n\u001b[0;32m--> 968\u001b[0;31m                         name[lprefix:], filename, _brief_print_list(arg_dict.keys()))\n\u001b[0m\u001b[1;32m    969\u001b[0m         \u001b[0;32mfor\u001b[0m \u001b[0mname\u001b[0m \u001b[0;32min\u001b[0m \u001b[0marg_dict\u001b[0m\u001b[0;34m:\u001b[0m\u001b[0;34m\u001b[0m\u001b[0m\n\u001b[1;32m    970\u001b[0m             \u001b[0;32mif\u001b[0m \u001b[0mname\u001b[0m \u001b[0;32mnot\u001b[0m \u001b[0;32min\u001b[0m \u001b[0mself\u001b[0m\u001b[0;34m.\u001b[0m\u001b[0m_params\u001b[0m\u001b[0;34m:\u001b[0m\u001b[0;34m\u001b[0m\u001b[0m\n",
      "\u001b[0;31mAssertionError\u001b[0m: Parameter 'first-3x3-conv-conv2d_weight' is missing in file '../checkpoint_mxnet/lmks_detector-0800.params', which contains parameters: 'pfld_v38_pfld_v30_first-3x3-conv-conv2d_weight', 'pfld_v38_pfld_v30_first-3x3-conv-batchnorm_gamma', 'pfld_v38_pfld_v30_first-3x3-conv-batchnorm_beta', ..., 'pfld_v38_pfld_v30_output_branch_1batchnorm0_running_mean', 'pfld_v38_pfld_v30_output_branch_1batchnorm0_running_var', 'pfld_v38_pfld_v30_output_branch_2batchnorm0_running_mean', 'pfld_v38_pfld_v30_output_branch_2batchnorm0_running_var'. Please make sure source and target networks have the same prefix."
     ]
    }
   ],
   "source": [
    "import numpy as np\n",
    "import mxnet as mx\n",
    "import sys\n",
    "sys.path.insert(0, \"../../pfld_mxnet/models\")\n",
    "from PFLD_v3 import PFLD_v3\n",
    "from PFLD_v2 import NPFLD\n",
    "\n",
    "x = mx.nd.random.uniform(0.0, 1.0, shape=(1, 3, 112, 112))\n",
    "net = PFLD_v3(num_of_pts=98, alpha=1.0)\n",
    "net.hybridize()\n",
    "net.load_parameters(\"../checkpoint_mxnet/lmks_detector-0800.params\")"
   ]
  },
  {
   "cell_type": "code",
   "execution_count": 5,
   "metadata": {},
   "outputs": [
    {
     "output_type": "execute_result",
     "data": {
      "text/plain": "'/home/vuthede/AI/PFLD-pytorch/notebooks'"
     },
     "metadata": {},
     "execution_count": 5
    }
   ],
   "source": []
  },
  {
   "cell_type": "code",
   "execution_count": null,
   "metadata": {},
   "outputs": [],
   "source": []
  }
 ],
 "metadata": {
  "language_info": {
   "codemirror_mode": {
    "name": "ipython",
    "version": 3
   },
   "file_extension": ".py",
   "mimetype": "text/x-python",
   "name": "python",
   "nbconvert_exporter": "python",
   "pygments_lexer": "ipython3",
   "version": "3.7.0-final"
  },
  "orig_nbformat": 2,
  "kernelspec": {
   "name": "python3",
   "display_name": "Python 3"
  }
 },
 "nbformat": 4,
 "nbformat_minor": 2
}