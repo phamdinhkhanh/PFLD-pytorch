{
 "cells": [
  {
   "cell_type": "code",
   "execution_count": 4,
   "metadata": {
    "tags": []
   },
   "outputs": [
    {
     "output_type": "error",
     "ename": "NameError",
     "evalue": "name 'gluon' is not defined",
     "traceback": [
      "\u001b[0;31m---------------------------------------------------------------------------\u001b[0m",
      "\u001b[0;31mNameError\u001b[0m                                 Traceback (most recent call last)",
      "\u001b[0;32m<ipython-input-4-d024733ebbf8>\u001b[0m in \u001b[0;36m<module>\u001b[0;34m\u001b[0m\n\u001b[1;32m     13\u001b[0m     )\n\u001b[1;32m     14\u001b[0m \u001b[0;34m\u001b[0m\u001b[0m\n\u001b[0;32m---> 15\u001b[0;31m \u001b[0mnet\u001b[0m \u001b[0;34m=\u001b[0m \u001b[0mgluon\u001b[0m\u001b[0;34m.\u001b[0m\u001b[0mnn\u001b[0m\u001b[0;34m.\u001b[0m\u001b[0mSymbolBlock\u001b[0m\u001b[0;34m.\u001b[0m\u001b[0mimports\u001b[0m\u001b[0;34m(\u001b[0m\u001b[0;34m\"/home/vuthede/Downloads/lmks_detector-symbolresnst.json\"\u001b[0m\u001b[0;34m,\u001b[0m \u001b[0;34m[\u001b[0m\u001b[0;34m'data'\u001b[0m\u001b[0;34m]\u001b[0m\u001b[0;34m,\u001b[0m \u001b[0;34m\"/home/vuthede/Downloads/lmks_detector-0800resnet.params\"\u001b[0m\u001b[0;34m,\u001b[0m \u001b[0mctx\u001b[0m\u001b[0;34m=\u001b[0m\u001b[0mdevices\u001b[0m\u001b[0;34m)\u001b[0m\u001b[0;34m\u001b[0m\u001b[0m\n\u001b[0m\u001b[1;32m     16\u001b[0m \u001b[0;34m\u001b[0m\u001b[0m\n\u001b[1;32m     17\u001b[0m \u001b[0;31m# validate model in test data\u001b[0m\u001b[0;34m\u001b[0m\u001b[0;34m\u001b[0m\u001b[0m\n",
      "\u001b[0;31mNameError\u001b[0m: name 'gluon' is not defined"
     ]
    }
   ],
   "source": [
    "import numpy as np\n",
    "import mxnet as mx\n",
    "import sys\n",
    "\n",
    "image_size = 112\n",
    "valid_iter = mx.io.ImageRecordIter(\n",
    "        path_imgrec=\"/home/vuthede/AI/PFLD-pytorch/data/pfld_test_data.rec\", \n",
    "        data_shape=(3, image_size, image_size), \n",
    "        batch_size=50,\n",
    "        label_width=205,\n",
    "        shuffle = False,\n",
    "        preprocess_threads = 16,\n",
    "    )\n",
    "\n",
    "net = gluon.nn.SymbolBlock.imports(\"/home/vuthede/Downloads/lmks_detector-symbolresnst.json\", ['data'], \"/home/vuthede/Downloads/lmks_detector-0800resnet.params\", ctx=devices)\n",
    "        \n",
    "# validate model in test data\n",
    "NME = 0.0\n",
    "NUM = 0\n",
    "for batch in valid_iter:\n",
    "    data = batch.data[0]\n",
    "    data = preprocess(data)\n",
    "    labels = batch.label[0]\n",
    "    lmks = labels[:, 0:98*2]\n",
    "    data = data.as_in_context(devices[0])\n",
    "    lmks = lmks.as_in_context(devices[0])\n",
    "    shared_feature, regs = net(data)\n",
    "    regs = nd.Flatten(regs)\n",
    "    batch_size = data.shape[0]\n",
    "    NUM += batch_size\n",
    "    regs = regs.asnumpy()\n",
    "    lmks = lmks.asnumpy()\n",
    "    print (regs)\n",
    "    for i in range(0, batch_size):\n",
    "        ne = 0.0\n",
    "        for j in range(60, 76):\n",
    "            e = (regs[i, j*2 + 0] - lmks[i, j*2 + 0]) * (regs[i, j*2 + 0] - lmks[i, j*2 + 0]) + \\\n",
    "                (regs[i, j*2 + 1] - lmks[i, j*2 + 1]) * (regs[i, j*2 + 1] - lmks[i, j*2 + 1])\n",
    "            e = np.sqrt(e)\n",
    "            ne += e\n",
    "        inter_occular=(lmks[i, 2*60 + 0] - lmks[i, 2*72 + 0]) * (lmks[i, 2*60 + 0] - lmks[i, 2*72 + 0]) +\\\n",
    "                        (lmks[i, 2*60 + 1] - lmks[i, 2*72 + 1]) * (lmks[i, 2*60 + 1] - lmks[i, 2*72 + 1])\n",
    "        inter_occular = np.sqrt(inter_occular)\n",
    "        ne = ne / (inter_occular)\n",
    "        NME += ne\n",
    "\n",
    "NME /= NUM  \n",
    "print('Validaton: {} = {}'.format('NME', NME))\n",
    "\n",
    "\n"
   ]
  },
  {
   "cell_type": "code",
   "execution_count": 5,
   "metadata": {},
   "outputs": [
    {
     "output_type": "execute_result",
     "data": {
      "text/plain": "'/home/vuthede/AI/PFLD-pytorch/notebooks'"
     },
     "metadata": {},
     "execution_count": 5
    }
   ],
   "source": []
  },
  {
   "cell_type": "code",
   "execution_count": null,
   "metadata": {},
   "outputs": [],
   "source": []
  }
 ],
 "metadata": {
  "language_info": {
   "codemirror_mode": {
    "name": "ipython",
    "version": 3
   },
   "file_extension": ".py",
   "mimetype": "text/x-python",
   "name": "python",
   "nbconvert_exporter": "python",
   "pygments_lexer": "ipython3",
   "version": "3.7.0-final"
  },
  "orig_nbformat": 2,
  "kernelspec": {
   "name": "python37064bitrnncondaad2e32c4bb1b4af49b878152bbee9716",
   "display_name": "Python 3.7.0 64-bit ('rnn': conda)"
  }
 },
 "nbformat": 4,
 "nbformat_minor": 2
}