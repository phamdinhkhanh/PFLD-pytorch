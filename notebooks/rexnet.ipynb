{
 "cells": [
  {
   "cell_type": "code",
   "execution_count": 1,
   "metadata": {
    "tags": []
   },
   "outputs": [
    {
     "output_type": "stream",
     "name": "stdout",
     "text": "0\n1\n2\n3\n4\n5\n6\n7\n8\n9\n10\n11\n12\n13\n14\n15\ntorch.Size([1, 38, 28, 28])\ntorch.Size([1, 196])\n"
    }
   ],
   "source": [
    "import torch\n",
    "import sys\n",
    "sys.path.insert(0, \"../models\")\n",
    "import rexnet\n",
    "import time\n",
    "import numpy as np\n",
    "\n",
    "model = rexnet.ReXNetV1(width_mult=1)\n",
    "# model.load_state_dict(torch.load('./rexnetv1_1.0x.pth'))\n",
    "model.eval()\n",
    "\n",
    "x = torch.randn(1, 3, 112, 112)\n",
    "s, out = model(x)\n",
    "print(s.shape)\n",
    "\n",
    "print(out.shape)\n",
    "# x = torch.randn(1, 3, 112, 112)\n",
    "# times = []\n",
    "# for i in range(100):\n",
    "#     t1 =time.time()\n",
    "#     model(x)\n",
    "#     t2 =time.time()\n",
    "#     times.append(t2-t1)\n",
    "#     # print(\"Time inference: \", t2-t1)\n",
    "\n",
    "# print(\"Time ave: \", np.mean(times))"
   ]
  },
  {
   "cell_type": "code",
   "execution_count": 11,
   "metadata": {
    "tags": []
   },
   "outputs": [
    {
     "output_type": "stream",
     "name": "stdout",
     "text": "[1, 2, 2, 3, 3, 5]\n16\n[1, 2, 1, 1, 1, 1, 1, 1, 1, 1, 1, 2, 1, 1, 1, 1]\n"
    }
   ],
   "source": [
    "from math import ceil\n",
    "\n",
    "layers = [1, 2, 2, 3, 3, 5]\n",
    "strides = [1, 2, 1, 1, 1, 2]\n",
    "layers = [ceil(element * 1) for element in layers]\n",
    "strides = sum([[element] + [1] * (layers[idx] - 1) for idx, element in enumerate(strides)], [])\n",
    "\n",
    "print(layers)\n",
    "print(len(strides))\n",
    "print(strides)\n"
   ]
  },
  {
   "cell_type": "code",
   "execution_count": 3,
   "metadata": {},
   "outputs": [
    {
     "output_type": "execute_result",
     "data": {
      "text/plain": "ReXNetV1(\n  (shared_feature): Sequential(\n    (0): Conv2d(3, 32, kernel_size=(3, 3), stride=(2, 2), padding=(1, 1), bias=False)\n    (1): BatchNorm2d(32, eps=1e-05, momentum=0.1, affine=True, track_running_stats=True)\n    (2): Swish(\n      (sigmoid): Sigmoid()\n    )\n    (3): LinearBottleneck(\n      (out): Sequential(\n        (0): Conv2d(32, 32, kernel_size=(3, 3), stride=(1, 1), padding=(1, 1), groups=32, bias=False)\n        (1): BatchNorm2d(32, eps=1e-05, momentum=0.1, affine=True, track_running_stats=True)\n        (2): ReLU6()\n        (3): Conv2d(32, 16, kernel_size=(1, 1), stride=(1, 1), bias=False)\n        (4): BatchNorm2d(16, eps=1e-05, momentum=0.1, affine=True, track_running_stats=True)\n      )\n    )\n    (4): LinearBottleneck(\n      (out): Sequential(\n        (0): Conv2d(16, 96, kernel_size=(1, 1), stride=(1, 1), bias=False)\n        (1): BatchNorm2d(96, eps=1e-05, momentum=0.1, affine=True, track_running_stats=True)\n        (2): Swish(\n          (sigmoid): Sigmoid()\n        )\n        (3): Conv2d(96, 96, kernel_size=(3, 3), stride=(2, 2), padding=(1, 1), groups=96, bias=False)\n        (4): BatchNorm2d(96, eps=1e-05, momentum=0.1, affine=True, track_running_stats=True)\n        (5): ReLU6()\n        (6): Conv2d(96, 27, kernel_size=(1, 1), stride=(1, 1), bias=False)\n        (7): BatchNorm2d(27, eps=1e-05, momentum=0.1, affine=True, track_running_stats=True)\n      )\n    )\n    (5): LinearBottleneck(\n      (out): Sequential(\n        (0): Conv2d(27, 162, kernel_size=(1, 1), stride=(1, 1), bias=False)\n        (1): BatchNorm2d(162, eps=1e-05, momentum=0.1, affine=True, track_running_stats=True)\n        (2): Swish(\n          (sigmoid): Sigmoid()\n        )\n        (3): Conv2d(162, 162, kernel_size=(3, 3), stride=(1, 1), padding=(1, 1), groups=162, bias=False)\n        (4): BatchNorm2d(162, eps=1e-05, momentum=0.1, affine=True, track_running_stats=True)\n        (5): ReLU6()\n        (6): Conv2d(162, 38, kernel_size=(1, 1), stride=(1, 1), bias=False)\n        (7): BatchNorm2d(38, eps=1e-05, momentum=0.1, affine=True, track_running_stats=True)\n      )\n    )\n  )\n  (remain_features): Sequential(\n    (0): LinearBottleneck(\n      (out): Sequential(\n        (0): Conv2d(38, 228, kernel_size=(1, 1), stride=(1, 1), bias=False)\n        (1): BatchNorm2d(228, eps=1e-05, momentum=0.1, affine=True, track_running_stats=True)\n        (2): Swish(\n          (sigmoid): Sigmoid()\n        )\n        (3): Conv2d(228, 228, kernel_size=(3, 3), stride=(2, 2), padding=(1, 1), groups=228, bias=False)\n        (4): BatchNorm2d(228, eps=1e-05, momentum=0.1, affine=True, track_running_stats=True)\n        (5): SE(\n          (avg_pool): AdaptiveAvgPool2d(output_size=1)\n          (fc): Sequential(\n            (0): Conv2d(228, 19, kernel_size=(1, 1), stride=(1, 1))\n            (1): BatchNorm2d(19, eps=1e-05, momentum=0.1, affine=True, track_running_stats=True)\n            (2): ReLU(inplace=True)\n            (3): Conv2d(19, 228, kernel_size=(1, 1), stride=(1, 1))\n            (4): Sigmoid()\n          )\n        )\n        (6): ReLU6()\n        (7): Conv2d(228, 50, kernel_size=(1, 1), stride=(1, 1), bias=False)\n        (8): BatchNorm2d(50, eps=1e-05, momentum=0.1, affine=True, track_running_stats=True)\n      )\n    )\n    (1): LinearBottleneck(\n      (out): Sequential(\n        (0): Conv2d(50, 300, kernel_size=(1, 1), stride=(1, 1), bias=False)\n        (1): BatchNorm2d(300, eps=1e-05, momentum=0.1, affine=True, track_running_stats=True)\n        (2): Swish(\n          (sigmoid): Sigmoid()\n        )\n        (3): Conv2d(300, 300, kernel_size=(3, 3), stride=(1, 1), padding=(1, 1), groups=300, bias=False)\n        (4): BatchNorm2d(300, eps=1e-05, momentum=0.1, affine=True, track_running_stats=True)\n        (5): SE(\n          (avg_pool): AdaptiveAvgPool2d(output_size=1)\n          (fc): Sequential(\n            (0): Conv2d(300, 25, kernel_size=(1, 1), stride=(1, 1))\n            (1): BatchNorm2d(25, eps=1e-05, momentum=0.1, affine=True, track_running_stats=True)\n            (2): ReLU(inplace=True)\n            (3): Conv2d(25, 300, kernel_size=(1, 1), stride=(1, 1))\n            (4): Sigmoid()\n          )\n        )\n        (6): ReLU6()\n        (7): Conv2d(300, 61, kernel_size=(1, 1), stride=(1, 1), bias=False)\n        (8): BatchNorm2d(61, eps=1e-05, momentum=0.1, affine=True, track_running_stats=True)\n      )\n    )\n    (2): LinearBottleneck(\n      (out): Sequential(\n        (0): Conv2d(61, 366, kernel_size=(1, 1), stride=(1, 1), bias=False)\n        (1): BatchNorm2d(366, eps=1e-05, momentum=0.1, affine=True, track_running_stats=True)\n        (2): Swish(\n          (sigmoid): Sigmoid()\n        )\n        (3): Conv2d(366, 366, kernel_size=(3, 3), stride=(2, 2), padding=(1, 1), groups=366, bias=False)\n        (4): BatchNorm2d(366, eps=1e-05, momentum=0.1, affine=True, track_running_stats=True)\n        (5): SE(\n          (avg_pool): AdaptiveAvgPool2d(output_size=1)\n          (fc): Sequential(\n            (0): Conv2d(366, 30, kernel_size=(1, 1), stride=(1, 1))\n            (1): BatchNorm2d(30, eps=1e-05, momentum=0.1, affine=True, track_running_stats=True)\n            (2): ReLU(inplace=True)\n            (3): Conv2d(30, 366, kernel_size=(1, 1), stride=(1, 1))\n            (4): Sigmoid()\n          )\n        )\n        (6): ReLU6()\n        (7): Conv2d(366, 72, kernel_size=(1, 1), stride=(1, 1), bias=False)\n        (8): BatchNorm2d(72, eps=1e-05, momentum=0.1, affine=True, track_running_stats=True)\n      )\n    )\n  )\n)"
     },
     "metadata": {},
     "execution_count": 3
    }
   ],
   "source": [
    "model"
   ]
  },
  {
   "cell_type": "code",
   "execution_count": 1,
   "metadata": {},
   "outputs": [],
   "source": [
    "import torch\n",
    "import sys\n",
    "sys.path.insert(0, \"../models\")\n",
    "import rexnet1\n",
    "import time\n",
    "import numpy as np\n",
    "\n",
    "model = rexnet1.ReXNetV1(width_mult=1)\n",
    "model.eval()\n",
    "# model.load_state_dict(torch.load('./rexnetv1_1.0x.pth'))\n",
    "torch.save(model, \"model.pth\")"
   ]
  },
  {
   "cell_type": "code",
   "execution_count": null,
   "metadata": {},
   "outputs": [],
   "source": []
  }
 ],
 "metadata": {
  "language_info": {
   "codemirror_mode": {
    "name": "ipython",
    "version": 3
   },
   "file_extension": ".py",
   "mimetype": "text/x-python",
   "name": "python",
   "nbconvert_exporter": "python",
   "pygments_lexer": "ipython3",
   "version": 3
  },
  "orig_nbformat": 2,
  "kernelspec": {
   "name": "python_defaultSpec_1594873778364",
   "display_name": "Python 3.7.0 64-bit ('rnn': conda)"
  }
 },
 "nbformat": 4,
 "nbformat_minor": 2
}