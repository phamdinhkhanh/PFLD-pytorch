{
 "cells": [
  {
   "cell_type": "code",
   "execution_count": 5,
   "metadata": {},
   "outputs": [],
   "source": [
    "import sys\n",
    "sys.path.insert(0, \"../models\")\n",
    "from mobilefacenet import MobileFacenet,CustomizedGhostNet2, PFLDInference\n",
    "import time\n",
    "import torch"
   ]
  },
  {
   "cell_type": "code",
   "execution_count": 31,
   "metadata": {
    "tags": []
   },
   "outputs": [
    {
     "output_type": "stream",
     "name": "stdout",
     "text": "Time: 0.030813217163085938\n"
    }
   ],
   "source": [
    "input = torch.FloatTensor(1, 3, 112, 112)\n",
    "net = MobileFacenet()\n",
    "net.eval()\n",
    "t1 = time.time()\n",
    "x = net(input)\n",
    "print(\"Time:\", time.time()-t1)"
   ]
  },
  {
   "cell_type": "code",
   "execution_count": null,
   "metadata": {},
   "outputs": [],
   "source": []
  }
 ],
 "metadata": {
  "language_info": {
   "codemirror_mode": {
    "name": "ipython",
    "version": 3
   },
   "file_extension": ".py",
   "mimetype": "text/x-python",
   "name": "python",
   "nbconvert_exporter": "python",
   "pygments_lexer": "ipython3",
   "version": "3.7.0-final"
  },
  "orig_nbformat": 2,
  "kernelspec": {
   "name": "python37064bitrnncondaad2e32c4bb1b4af49b878152bbee9716",
   "display_name": "Python 3.7.0 64-bit ('rnn': conda)"
  }
 },
 "nbformat": 4,
 "nbformat_minor": 2
}