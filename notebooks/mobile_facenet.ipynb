{
 "cells": [
  {
   "cell_type": "code",
   "execution_count": 1,
   "metadata": {},
   "outputs": [],
   "source": [
    "import sys\n",
    "sys.path.insert(0, \"../models\")\n",
    "from pfld import MobileFacenet,CustomizedGhostNet2, PFLDInference\n",
    "import time\n",
    "import torch"
   ]
  },
  {
   "cell_type": "code",
   "execution_count": 6,
   "metadata": {
    "tags": []
   },
   "outputs": [
    {
     "output_type": "stream",
     "name": "stdout",
     "text": "Input channel: 160. Output channel: 960\nTime: 0.011475801467895508\n"
    }
   ],
   "source": [
    "input = torch.FloatTensor(1, 3, 112, 112)\n",
    "net = MobileFacenet()\n",
    "net1 = CustomizedGhostNet2()\n",
    "net2 = PFLDInference(alpha=0.25)\n",
    "net.eval()\n",
    "net1.eval()\n",
    "net2.eval()\n",
    "\n",
    "t1 = time.time()\n",
    "x = net2(input)\n",
    "print(\"Time:\", time.time()-t1)"
   ]
  },
  {
   "cell_type": "code",
   "execution_count": 7,
   "metadata": {},
   "outputs": [
    {
     "output_type": "execute_result",
     "data": {
      "text/plain": "odict_keys(['conv1.weight', 'bn1.weight', 'bn1.bias', 'bn1.running_mean', 'bn1.running_var', 'bn1.num_batches_tracked', 'conv2.weight', 'bn2.weight', 'bn2.bias', 'bn2.running_mean', 'bn2.running_var', 'bn2.num_batches_tracked', 'conv3_1.conv.0.weight', 'conv3_1.conv.1.weight', 'conv3_1.conv.1.bias', 'conv3_1.conv.1.running_mean', 'conv3_1.conv.1.running_var', 'conv3_1.conv.1.num_batches_tracked', 'conv3_1.conv.3.weight', 'conv3_1.conv.4.weight', 'conv3_1.conv.4.bias', 'conv3_1.conv.4.running_mean', 'conv3_1.conv.4.running_var', 'conv3_1.conv.4.num_batches_tracked', 'conv3_1.conv.6.weight', 'conv3_1.conv.7.weight', 'conv3_1.conv.7.bias', 'conv3_1.conv.7.running_mean', 'conv3_1.conv.7.running_var', 'conv3_1.conv.7.num_batches_tracked', 'block3_2.conv.0.weight', 'block3_2.conv.1.weight', 'block3_2.conv.1.bias', 'block3_2.conv.1.running_mean', 'block3_2.conv.1.running_var', 'block3_2.conv.1.num_batches_tracked', 'block3_2.conv.3.weight', 'block3_2.conv.4.weight', 'block3_2.conv.4.bias', 'block3_2.conv.4.running_mean', 'block3_2.conv.4.running_var', 'block3_2.conv.4.num_batches_tracked', 'block3_2.conv.6.weight', 'block3_2.conv.7.weight', 'block3_2.conv.7.bias', 'block3_2.conv.7.running_mean', 'block3_2.conv.7.running_var', 'block3_2.conv.7.num_batches_tracked', 'block3_3.conv.0.weight', 'block3_3.conv.1.weight', 'block3_3.conv.1.bias', 'block3_3.conv.1.running_mean', 'block3_3.conv.1.running_var', 'block3_3.conv.1.num_batches_tracked', 'block3_3.conv.3.weight', 'block3_3.conv.4.weight', 'block3_3.conv.4.bias', 'block3_3.conv.4.running_mean', 'block3_3.conv.4.running_var', 'block3_3.conv.4.num_batches_tracked', 'block3_3.conv.6.weight', 'block3_3.conv.7.weight', 'block3_3.conv.7.bias', 'block3_3.conv.7.running_mean', 'block3_3.conv.7.running_var', 'block3_3.conv.7.num_batches_tracked', 'block3_4.conv.0.weight', 'block3_4.conv.1.weight', 'block3_4.conv.1.bias', 'block3_4.conv.1.running_mean', 'block3_4.conv.1.running_var', 'block3_4.conv.1.num_batches_tracked', 'block3_4.conv.3.weight', 'block3_4.conv.4.weight', 'block3_4.conv.4.bias', 'block3_4.conv.4.running_mean', 'block3_4.conv.4.running_var', 'block3_4.conv.4.num_batches_tracked', 'block3_4.conv.6.weight', 'block3_4.conv.7.weight', 'block3_4.conv.7.bias', 'block3_4.conv.7.running_mean', 'block3_4.conv.7.running_var', 'block3_4.conv.7.num_batches_tracked', 'block3_5.conv.0.weight', 'block3_5.conv.1.weight', 'block3_5.conv.1.bias', 'block3_5.conv.1.running_mean', 'block3_5.conv.1.running_var', 'block3_5.conv.1.num_batches_tracked', 'block3_5.conv.3.weight', 'block3_5.conv.4.weight', 'block3_5.conv.4.bias', 'block3_5.conv.4.running_mean', 'block3_5.conv.4.running_var', 'block3_5.conv.4.num_batches_tracked', 'block3_5.conv.6.weight', 'block3_5.conv.7.weight', 'block3_5.conv.7.bias', 'block3_5.conv.7.running_mean', 'block3_5.conv.7.running_var', 'block3_5.conv.7.num_batches_tracked', 'conv4_1.conv.0.weight', 'conv4_1.conv.1.weight', 'conv4_1.conv.1.bias', 'conv4_1.conv.1.running_mean', 'conv4_1.conv.1.running_var', 'conv4_1.conv.1.num_batches_tracked', 'conv4_1.conv.3.weight', 'conv4_1.conv.4.weight', 'conv4_1.conv.4.bias', 'conv4_1.conv.4.running_mean', 'conv4_1.conv.4.running_var', 'conv4_1.conv.4.num_batches_tracked', 'conv4_1.conv.6.weight', 'conv4_1.conv.7.weight', 'conv4_1.conv.7.bias', 'conv4_1.conv.7.running_mean', 'conv4_1.conv.7.running_var', 'conv4_1.conv.7.num_batches_tracked', 'conv5_1.conv.0.weight', 'conv5_1.conv.1.weight', 'conv5_1.conv.1.bias', 'conv5_1.conv.1.running_mean', 'conv5_1.conv.1.running_var', 'conv5_1.conv.1.num_batches_tracked', 'conv5_1.conv.3.weight', 'conv5_1.conv.4.weight', 'conv5_1.conv.4.bias', 'conv5_1.conv.4.running_mean', 'conv5_1.conv.4.running_var', 'conv5_1.conv.4.num_batches_tracked', 'conv5_1.conv.6.weight', 'conv5_1.conv.7.weight', 'conv5_1.conv.7.bias', 'conv5_1.conv.7.running_mean', 'conv5_1.conv.7.running_var', 'conv5_1.conv.7.num_batches_tracked', 'block5_2.conv.0.weight', 'block5_2.conv.1.weight', 'block5_2.conv.1.bias', 'block5_2.conv.1.running_mean', 'block5_2.conv.1.running_var', 'block5_2.conv.1.num_batches_tracked', 'block5_2.conv.3.weight', 'block5_2.conv.4.weight', 'block5_2.conv.4.bias', 'block5_2.conv.4.running_mean', 'block5_2.conv.4.running_var', 'block5_2.conv.4.num_batches_tracked', 'block5_2.conv.6.weight', 'block5_2.conv.7.weight', 'block5_2.conv.7.bias', 'block5_2.conv.7.running_mean', 'block5_2.conv.7.running_var', 'block5_2.conv.7.num_batches_tracked', 'block5_3.conv.0.weight', 'block5_3.conv.1.weight', 'block5_3.conv.1.bias', 'block5_3.conv.1.running_mean', 'block5_3.conv.1.running_var', 'block5_3.conv.1.num_batches_tracked', 'block5_3.conv.3.weight', 'block5_3.conv.4.weight', 'block5_3.conv.4.bias', 'block5_3.conv.4.running_mean', 'block5_3.conv.4.running_var', 'block5_3.conv.4.num_batches_tracked', 'block5_3.conv.6.weight', 'block5_3.conv.7.weight', 'block5_3.conv.7.bias', 'block5_3.conv.7.running_mean', 'block5_3.conv.7.running_var', 'block5_3.conv.7.num_batches_tracked', 'block5_4.conv.0.weight', 'block5_4.conv.1.weight', 'block5_4.conv.1.bias', 'block5_4.conv.1.running_mean', 'block5_4.conv.1.running_var', 'block5_4.conv.1.num_batches_tracked', 'block5_4.conv.3.weight', 'block5_4.conv.4.weight', 'block5_4.conv.4.bias', 'block5_4.conv.4.running_mean', 'block5_4.conv.4.running_var', 'block5_4.conv.4.num_batches_tracked', 'block5_4.conv.6.weight', 'block5_4.conv.7.weight', 'block5_4.conv.7.bias', 'block5_4.conv.7.running_mean', 'block5_4.conv.7.running_var', 'block5_4.conv.7.num_batches_tracked', 'block5_5.conv.0.weight', 'block5_5.conv.1.weight', 'block5_5.conv.1.bias', 'block5_5.conv.1.running_mean', 'block5_5.conv.1.running_var', 'block5_5.conv.1.num_batches_tracked', 'block5_5.conv.3.weight', 'block5_5.conv.4.weight', 'block5_5.conv.4.bias', 'block5_5.conv.4.running_mean', 'block5_5.conv.4.running_var', 'block5_5.conv.4.num_batches_tracked', 'block5_5.conv.6.weight', 'block5_5.conv.7.weight', 'block5_5.conv.7.bias', 'block5_5.conv.7.running_mean', 'block5_5.conv.7.running_var', 'block5_5.conv.7.num_batches_tracked', 'block5_6.conv.0.weight', 'block5_6.conv.1.weight', 'block5_6.conv.1.bias', 'block5_6.conv.1.running_mean', 'block5_6.conv.1.running_var', 'block5_6.conv.1.num_batches_tracked', 'block5_6.conv.3.weight', 'block5_6.conv.4.weight', 'block5_6.conv.4.bias', 'block5_6.conv.4.running_mean', 'block5_6.conv.4.running_var', 'block5_6.conv.4.num_batches_tracked', 'block5_6.conv.6.weight', 'block5_6.conv.7.weight', 'block5_6.conv.7.bias', 'block5_6.conv.7.running_mean', 'block5_6.conv.7.running_var', 'block5_6.conv.7.num_batches_tracked', 'conv6_1.conv.0.weight', 'conv6_1.conv.1.weight', 'conv6_1.conv.1.bias', 'conv6_1.conv.1.running_mean', 'conv6_1.conv.1.running_var', 'conv6_1.conv.1.num_batches_tracked', 'conv6_1.conv.3.weight', 'conv6_1.conv.4.weight', 'conv6_1.conv.4.bias', 'conv6_1.conv.4.running_mean', 'conv6_1.conv.4.running_var', 'conv6_1.conv.4.num_batches_tracked', 'conv6_1.conv.6.weight', 'conv6_1.conv.7.weight', 'conv6_1.conv.7.bias', 'conv6_1.conv.7.running_mean', 'conv6_1.conv.7.running_var', 'conv6_1.conv.7.num_batches_tracked', 'conv7.0.weight', 'conv7.1.weight', 'conv7.1.bias', 'conv7.1.running_mean', 'conv7.1.running_var', 'conv7.1.num_batches_tracked', 'conv8.weight', 'conv8.bias', 'bn8.weight', 'bn8.bias', 'bn8.running_mean', 'bn8.running_var', 'bn8.num_batches_tracked', 'fc.weight', 'fc.bias'])"
     },
     "metadata": {},
     "execution_count": 7
    }
   ],
   "source": [
    "net2.state_dict().keys()"
   ]
  },
  {
   "cell_type": "code",
   "execution_count": 21,
   "metadata": {
    "tags": []
   },
   "outputs": [],
   "source": [
    "net2.train()\n",
    "\n",
    "for l in net2.state_dict().keys():\n",
    "    if net2.state_dict()[l].requires_grad == True:\n",
    "        print(\"Yo\")"
   ]
  },
  {
   "cell_type": "code",
   "execution_count": 26,
   "metadata": {
    "tags": []
   },
   "outputs": [
    {
     "output_type": "stream",
     "name": "stdout",
     "text": "Layer name :conv1 True\nLayer name :bn1 True\nLayer name :bn1 True\nLayer name :conv2 True\nLayer name :bn2 True\nLayer name :bn2 True\nLayer name :conv3_1 True\nLayer name :conv3_1 True\nLayer name :conv3_1 True\nLayer name :conv3_1 True\nLayer name :conv3_1 True\nLayer name :conv3_1 True\nLayer name :conv3_1 True\nLayer name :conv3_1 True\nLayer name :conv3_1 True\nLayer name :block3_2 True\nLayer name :block3_2 True\nLayer name :block3_2 True\nLayer name :block3_2 True\nLayer name :block3_2 True\nLayer name :block3_2 True\nLayer name :block3_2 True\nLayer name :block3_2 True\nLayer name :block3_2 True\nLayer name :block3_3 True\nLayer name :block3_3 True\nLayer name :block3_3 True\nLayer name :block3_3 True\nLayer name :block3_3 True\nLayer name :block3_3 True\nLayer name :block3_3 True\nLayer name :block3_3 True\nLayer name :block3_3 True\nLayer name :block3_4 True\nLayer name :block3_4 True\nLayer name :block3_4 True\nLayer name :block3_4 True\nLayer name :block3_4 True\nLayer name :block3_4 True\nLayer name :block3_4 True\nLayer name :block3_4 True\nLayer name :block3_4 True\nLayer name :block3_5 True\nLayer name :block3_5 True\nLayer name :block3_5 True\nLayer name :block3_5 True\nLayer name :block3_5 True\nLayer name :block3_5 True\nLayer name :block3_5 True\nLayer name :block3_5 True\nLayer name :block3_5 True\nLayer name :conv4_1 True\nLayer name :conv4_1 True\nLayer name :conv4_1 True\nLayer name :conv4_1 True\nLayer name :conv4_1 True\nLayer name :conv4_1 True\nLayer name :conv4_1 True\nLayer name :conv4_1 True\nLayer name :conv4_1 True\nLayer name :conv5_1 True\nLayer name :conv5_1 True\nLayer name :conv5_1 True\nLayer name :conv5_1 True\nLayer name :conv5_1 True\nLayer name :conv5_1 True\nLayer name :conv5_1 True\nLayer name :conv5_1 True\nLayer name :conv5_1 True\nLayer name :block5_2 True\nLayer name :block5_2 True\nLayer name :block5_2 True\nLayer name :block5_2 True\nLayer name :block5_2 True\nLayer name :block5_2 True\nLayer name :block5_2 True\nLayer name :block5_2 True\nLayer name :block5_2 True\nLayer name :block5_3 True\nLayer name :block5_3 True\nLayer name :block5_3 True\nLayer name :block5_3 True\nLayer name :block5_3 True\nLayer name :block5_3 True\nLayer name :block5_3 True\nLayer name :block5_3 True\nLayer name :block5_3 True\nLayer name :block5_4 True\nLayer name :block5_4 True\nLayer name :block5_4 True\nLayer name :block5_4 True\nLayer name :block5_4 True\nLayer name :block5_4 True\nLayer name :block5_4 True\nLayer name :block5_4 True\nLayer name :block5_4 True\nLayer name :block5_5 True\nLayer name :block5_5 True\nLayer name :block5_5 True\nLayer name :block5_5 True\nLayer name :block5_5 True\nLayer name :block5_5 True\nLayer name :block5_5 True\nLayer name :block5_5 True\nLayer name :block5_5 True\nLayer name :block5_6 True\nLayer name :block5_6 True\nLayer name :block5_6 True\nLayer name :block5_6 True\nLayer name :block5_6 True\nLayer name :block5_6 True\nLayer name :block5_6 True\nLayer name :block5_6 True\nLayer name :block5_6 True\nLayer name :conv6_1 True\nLayer name :conv6_1 True\nLayer name :conv6_1 True\nLayer name :conv6_1 True\nLayer name :conv6_1 True\nLayer name :conv6_1 True\nLayer name :conv6_1 True\nLayer name :conv6_1 True\nLayer name :conv6_1 True\nLayer name :conv7 True\nLayer name :conv7 True\nLayer name :conv7 True\nLayer name :conv8 True\nLayer name :conv8 True\nLayer name :bn8 True\nLayer name :bn8 True\nLayer name :fc True\nLayer name :fc True\n"
    }
   ],
   "source": [
    "list_freeze = [\"conv7\", \"conv8\", \"bn8\"]\n",
    "for name, child in net2.named_children():\n",
    "    for param in child.parameters():\n",
    "        if name in list_freeze:\n",
    "            param.requires_grad = False"
   ]
  },
  {
   "cell_type": "code",
   "execution_count": null,
   "metadata": {},
   "outputs": [],
   "source": []
  }
 ],
 "metadata": {
  "language_info": {
   "codemirror_mode": {
    "name": "ipython",
    "version": 3
   },
   "file_extension": ".py",
   "mimetype": "text/x-python",
   "name": "python",
   "nbconvert_exporter": "python",
   "pygments_lexer": "ipython3",
   "version": "3.7.0-final"
  },
  "orig_nbformat": 2,
  "kernelspec": {
   "name": "python37064bitrnncondaad2e32c4bb1b4af49b878152bbee9716",
   "display_name": "Python 3.7.0 64-bit ('rnn': conda)"
  }
 },
 "nbformat": 4,
 "nbformat_minor": 2
}